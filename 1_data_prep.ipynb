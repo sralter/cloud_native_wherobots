{
 "cells": [
  {
   "cell_type": "markdown",
   "metadata": {},
   "source": [
    "# Imports"
   ]
  },
  {
   "cell_type": "code",
   "execution_count": 18,
   "metadata": {},
   "outputs": [],
   "source": [
    "import duckdb\n",
    "import h3\n",
    "import pandas as pd\n",
    "from keplergl import KeplerGl"
   ]
  },
  {
   "cell_type": "code",
   "execution_count": 19,
   "metadata": {},
   "outputs": [],
   "source": [
    "with open('secret_access_key.txt', 'r') as file:\n",
    "    secret_access_key = file.read().strip()\n",
    "\n",
    "with open('access_key.txt', 'r') as file:\n",
    "    access_key = file.read().strip()"
   ]
  },
  {
   "cell_type": "code",
   "execution_count": 23,
   "metadata": {},
   "outputs": [
    {
     "name": "stdout",
     "output_type": "stream",
     "text": [
      "CPU times: user 150 ms, sys: 16.2 ms, total: 167 ms\n",
      "Wall time: 47.6 ms\n"
     ]
    },
    {
     "data": {
      "text/plain": [
       "<duckdb.duckdb.DuckDBPyConnection at 0x1721ca2f0>"
      ]
     },
     "execution_count": 23,
     "metadata": {},
     "output_type": "execute_result"
    }
   ],
   "source": [
    "%%time\n",
    "# Connect to DuckDB\n",
    "db = duckdb.connect()\n",
    "\n",
    "# Enable S3 access\n",
    "db.execute(\"INSTALL httpfs;\")\n",
    "db.execute(\"LOAD httpfs;\")"
   ]
  },
  {
   "cell_type": "code",
   "execution_count": 25,
   "metadata": {},
   "outputs": [
    {
     "name": "stdout",
     "output_type": "stream",
     "text": [
      "CPU times: user 751 μs, sys: 604 μs, total: 1.36 ms\n",
      "Wall time: 706 μs\n"
     ]
    }
   ],
   "source": [
    "%%time\n",
    "db.execute(\"SET s3_region='us-east-1';\")  # Adjust if needed\n",
    "db.execute(\"SET s3_endpoint='https://data.source.coop';\")  # Custom endpoint\n",
    "db.execute(f\"SET s3_access_key_id={access_key};\")\n",
    "db.execute(f\"SET s3_secret_access_key={secret_access_key};\")\n",
    "\n",
    "# Corrected S3 path\n",
    "s3_path = \"s3://wherobots/usa-structures/buildings.parquet\""
   ]
  },
  {
   "cell_type": "code",
   "execution_count": 26,
   "metadata": {},
   "outputs": [
    {
     "ename": "IOException",
     "evalue": "IO Error: Could not establish connection error for HTTP HEAD to 'https://wherobots.https://data.source.coop/usa-structures/buildings.parquet'",
     "output_type": "error",
     "traceback": [
      "\u001b[0;31m---------------------------------------------------------------------------\u001b[0m",
      "\u001b[0;31mIOException\u001b[0m                               Traceback (most recent call last)",
      "File \u001b[0;32m<timed exec>:13\u001b[0m\n",
      "\u001b[0;31mIOException\u001b[0m: IO Error: Could not establish connection error for HTTP HEAD to 'https://wherobots.https://data.source.coop/usa-structures/buildings.parquet'"
     ]
    }
   ],
   "source": [
    "%%time\n",
    "# Define the correct S3 path\n",
    "s3_path = \"s3://wherobots/usa-structures/buildings.parquet\"\n",
    "\n",
    "# Query a subset of the data\n",
    "query = f\"\"\"\n",
    "    SELECT latitude, longitude, building_id\n",
    "    FROM read_parquet('{s3_path}')\n",
    "    WHERE latitude IS NOT NULL AND longitude IS NOT NULL\n",
    "    LIMIT 10000\n",
    "\"\"\"\n",
    "\n",
    "# Execute query\n",
    "buildings_df = db.query(query).to_df()\n",
    "print(buildings_df.head())  # Preview results"
   ]
  },
  {
   "cell_type": "code",
   "execution_count": null,
   "metadata": {},
   "outputs": [],
   "source": [
    "# Convert lat/lon to H3 indices at resolution 9\n",
    "buildings_df['h3_index'] = buildings_df.apply(\n",
    "    lambda row: h3.geo_to_h3(row['latitude'], row['longitude'], 9), axis=1\n",
    ")\n",
    "\n",
    "# Save as GeoJSON-compatible DataFrame\n",
    "kepler_map = KeplerGl()\n",
    "kepler_map.add_data(data=buildings_df, name=\"Buildings\")\n",
    "kepler_map"
   ]
  },
  {
   "cell_type": "code",
   "execution_count": null,
   "metadata": {},
   "outputs": [],
   "source": []
  },
  {
   "cell_type": "code",
   "execution_count": null,
   "metadata": {},
   "outputs": [],
   "source": []
  },
  {
   "cell_type": "code",
   "execution_count": null,
   "metadata": {},
   "outputs": [],
   "source": []
  },
  {
   "cell_type": "code",
   "execution_count": null,
   "metadata": {},
   "outputs": [],
   "source": []
  },
  {
   "cell_type": "code",
   "execution_count": 9,
   "metadata": {},
   "outputs": [
    {
     "name": "stdout",
     "output_type": "stream",
     "text": [
      "CPU times: user 2 μs, sys: 0 ns, total: 2 μs\n",
      "Wall time: 3.81 μs\n"
     ]
    }
   ],
   "source": [
    "%%time\n",
    "# Query a subset of the data (modify as needed)\n",
    "query = f\"\"\"\n",
    "    SELECT latitude, longitude, building_id\n",
    "    FROM read_parquet('{s3_path}')\n",
    "    WHERE latitude IS NOT NULL AND longitude IS NOT NULL\n",
    "    LIMIT 10000\n",
    "\"\"\""
   ]
  },
  {
   "cell_type": "code",
   "execution_count": 10,
   "metadata": {},
   "outputs": [
    {
     "ename": "HTTPException",
     "evalue": "HTTP Error: HTTP GET error on 'https://wherobots.s3.amazonaws.com/usa-structures/' (HTTP 403)",
     "output_type": "error",
     "traceback": [
      "\u001b[0;31m---------------------------------------------------------------------------\u001b[0m",
      "\u001b[0;31mHTTPException\u001b[0m                             Traceback (most recent call last)",
      "File \u001b[0;32m<timed exec>:2\u001b[0m\n",
      "\u001b[0;31mHTTPException\u001b[0m: HTTP Error: HTTP GET error on 'https://wherobots.s3.amazonaws.com/usa-structures/' (HTTP 403)"
     ]
    }
   ],
   "source": [
    "%%time\n",
    "# Execute query\n",
    "buildings_df = db.query(query).to_df()"
   ]
  },
  {
   "cell_type": "code",
   "execution_count": null,
   "metadata": {},
   "outputs": [],
   "source": [
    "%%time\n",
    "# Convert lat/lon to H3 indices at resolution 9\n",
    "buildings_df['h3_index'] = buildings_df.apply(\n",
    "    lambda row: h3.geo_to_h3(row['latitude'], row['longitude'], 9), axis=1\n",
    ")"
   ]
  },
  {
   "cell_type": "code",
   "execution_count": null,
   "metadata": {},
   "outputs": [],
   "source": [
    "%%time\n",
    "# Save as GeoJSON-compatible DataFrame\n",
    "kepler_map = KeplerGl()\n",
    "kepler_map.add_data(data=buildings_df, name=\"Buildings\")\n",
    "kepler_map"
   ]
  },
  {
   "cell_type": "code",
   "execution_count": null,
   "metadata": {},
   "outputs": [],
   "source": []
  }
 ],
 "metadata": {
  "kernelspec": {
   "display_name": ".venv",
   "language": "python",
   "name": "python3"
  },
  "language_info": {
   "codemirror_mode": {
    "name": "ipython",
    "version": 3
   },
   "file_extension": ".py",
   "mimetype": "text/x-python",
   "name": "python",
   "nbconvert_exporter": "python",
   "pygments_lexer": "ipython3",
   "version": "3.11.9"
  }
 },
 "nbformat": 4,
 "nbformat_minor": 2
}
